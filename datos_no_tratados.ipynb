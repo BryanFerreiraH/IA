{
  "nbformat": 4,
  "nbformat_minor": 0,
  "metadata": {
    "colab": {
      "name": "datos_no_tratados.ipynb",
      "version": "0.3.2",
      "provenance": []
    },
    "kernelspec": {
      "name": "python3",
      "display_name": "Python 3"
    }
  },
  "cells": [
    {
      "metadata": {
        "id": "8iEGmnzzE8OI",
        "colab_type": "code",
        "colab": {}
      },
      "cell_type": "code",
      "source": [
        "from google.colab import drive\n",
        "drive.mount('/content/drive')\n",
        "import numpy as np #Manejo de matrices \n",
        "import scipy.io as sio #Leer datos de archivo original .mat\n",
        "from keras.utils import to_categorical"
      ],
      "execution_count": 0,
      "outputs": []
    },
    {
      "metadata": {
        "id": "Y_TcfIDAFUXH",
        "colab_type": "code",
        "colab": {}
      },
      "cell_type": "code",
      "source": [
        "#Cargar datos\n",
        "r_train = '/content/drive/Team Drives/IA Proyecto Final/dataset/train_32x32.mat'\n",
        "r_test = '/content/drive/Team Drives/IA Proyecto Final/dataset/test_32x32.mat'\n",
        "\n",
        "train_data = sio.loadmat(r_train)\n",
        "test_data = sio.loadmat(r_test)\n",
        "\n",
        "x_train = train_data['X']\n",
        "y_train = train_data['y']\n",
        "x_test = test_data['X']\n",
        "y_test = test_data['y']"
      ],
      "execution_count": 0,
      "outputs": []
    },
    {
      "metadata": {
        "id": "BAheETPLFvsw",
        "colab_type": "code",
        "colab": {}
      },
      "cell_type": "code",
      "source": [
        "#Ordenar para insertar en cnn\n",
        "x_train = x_train.transpose((3,0,1,2))\n",
        "x_test = x_test.transpose((3,0,1,2))\n",
        "\n",
        "y_train = to_categorical(y_train)\n",
        "y_test = to_categorical(y_test)"
      ],
      "execution_count": 0,
      "outputs": []
    },
    {
      "metadata": {
        "id": "bTocZiTXGGag",
        "colab_type": "code",
        "colab": {
          "base_uri": "https://localhost:8080/",
          "height": 122
        },
        "outputId": "474afe2c-51f7-45e6-ded2-e4c33fefb017"
      },
      "cell_type": "code",
      "source": [
        "from keras import models\n",
        "from keras import layers\n",
        "cnn = models.Sequential()\n",
        "\n",
        "cnn.add(layers.Conv2D(10, (5, 5), activation='relu', input_shape=(32,32,3)))\n",
        "cnn.add(layers.MaxPooling2D((2, 2)))\n",
        "cnn.add(layers.Conv2D(20, (5, 5), activation='relu'))\n",
        "cnn.add(layers.MaxPooling2D((2, 2)))\n",
        "\n",
        "# Clasificador\n",
        "cnn.add(layers.Flatten())\n",
        "cnn.add(layers.Dense(110, activation='relu'))\n",
        "\n",
        "# Neurona de salida\n",
        "cnn.add(layers.Dense(11, activation='softmax'))\n",
        "\n",
        "#Definimor el optmizador,la metricas para test/train y la funcion de perdida\n",
        "cnn.compile(optimizer='rmsprop',loss='categorical_crossentropy',metrics=['categorical_accuracy'])\n",
        "\n",
        "history = cnn.fit(x_train, y_train, epochs=2, batch_size=128, validation_data=(x_test, y_test))"
      ],
      "execution_count": 7,
      "outputs": [
        {
          "output_type": "stream",
          "text": [
            "Train on 73257 samples, validate on 26032 samples\n",
            "Epoch 1/2\n",
            "73257/73257 [==============================] - 106s 1ms/step - loss: 14.8503 - categorical_accuracy: 0.0784 - val_loss: 14.8940 - val_categorical_accuracy: 0.0759\n",
            "Epoch 2/2\n",
            "73257/73257 [==============================] - 104s 1ms/step - loss: 14.8580 - categorical_accuracy: 0.0782 - val_loss: 14.8940 - val_categorical_accuracy: 0.0759\n"
          ],
          "name": "stdout"
        }
      ]
    },
    {
      "metadata": {
        "id": "xD2PrlMMHp_i",
        "colab_type": "code",
        "colab": {
          "base_uri": "https://localhost:8080/",
          "height": 51
        },
        "outputId": "3a9d558a-5b8f-4ca2-e982-5a5dbdf8d61d"
      },
      "cell_type": "code",
      "source": [
        "test_loss, test_acc = cnn.evaluate(x_test, y_test)\n",
        "print('test_acc:', test_acc)"
      ],
      "execution_count": 9,
      "outputs": [
        {
          "output_type": "stream",
          "text": [
            "26032/26032 [==============================] - 18s 702us/step\n",
            "test_acc: 0.07594499078057775\n"
          ],
          "name": "stdout"
        }
      ]
    }
  ]
}