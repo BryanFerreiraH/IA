{
  "nbformat": 4,
  "nbformat_minor": 0,
  "metadata": {
    "colab": {
      "name": "preprocesado.ipynb",
      "version": "0.3.2",
      "provenance": [],
      "collapsed_sections": [],
      "include_colab_link": true
    },
    "kernelspec": {
      "display_name": "Python 3",
      "language": "python",
      "name": "python3"
    }
  },
  "cells": [
    {
      "cell_type": "markdown",
      "metadata": {
        "id": "view-in-github",
        "colab_type": "text"
      },
      "source": [
        "<a href=\"https://colab.research.google.com/github/BryanFerreiraH/IA/blob/master/preprocesado.ipynb\" target=\"_parent\"><img src=\"https://colab.research.google.com/assets/colab-badge.svg\" alt=\"Open In Colab\"/></a>"
      ]
    },
    {
      "metadata": {
        "id": "lDvS34fSy1gv",
        "colab_type": "code",
        "colab": {}
      },
      "cell_type": "code",
      "source": [
        "# Importar daos de Google Drive con Google Colab\n",
        "from google.colab import drive\n",
        "\n",
        "# Activa la autentificacion para acceder a datos\n",
        "drive.mount('/content/drive')\n",
        "\n",
        "#Nos muestra el directorio de nuestro proyecto\n",
        "!ls \"/content/drive/Team Drives/IA Proyecto Final\""
      ],
      "execution_count": 0,
      "outputs": []
    },
    {
      "metadata": {
        "id": "i8EU66Ruh2Eh",
        "colab_type": "code",
        "colab": {}
      },
      "cell_type": "code",
      "source": [
        "#Rutas de .mat con datos ordenador\n",
        "r_train = './dmat/train_32x32.mat'\n",
        "r_test = './dmat/test_32x32.mat'\n",
        "#r_extra = './dmat/test_32x32.mat'"
      ],
      "execution_count": 0,
      "outputs": []
    },
    {
      "metadata": {
        "id": "I82333Nvy8XP",
        "colab_type": "code",
        "colab": {}
      },
      "cell_type": "code",
      "source": [
        "#Rutas de .mat con datos en la nube\n",
        "r_train = '/content/drive/Team Drives/IA Proyecto Final/dataset/train_32x32.mat'\n",
        "r_test = '/content/drive/Team Drives/IA Proyecto Final/dataset/test_32x32.mat'\n",
        "r_extra = '/content/drive/Team Drives/IA Proyecto Final/dataset/extra_32x32.mat'"
      ],
      "execution_count": 0,
      "outputs": []
    },
    {
      "metadata": {
        "id": "rXRwK1ITyUK3",
        "colab_type": "code",
        "colab": {}
      },
      "cell_type": "code",
      "source": [
        "import numpy as np #Manejo de matrices \n",
        "import scipy.io as sio #Leer datos de archivo original .mat\n",
        "import matplotlib.pyplot as plt #Mostrar datos\n",
        "from sklearn.preprocessing import OneHotEncoder as hot_enc #Para trabajar con los datos en CNN\n",
        "import h5py #Guardar en h5 para luego procesarlos\n",
        "image_ind = 6982 #Acceso rapido para imprimir"
      ],
      "execution_count": 0,
      "outputs": []
    },
    {
      "metadata": {
        "id": "9WxEU8rpyUK_",
        "colab_type": "code",
        "colab": {}
      },
      "cell_type": "code",
      "source": [
        "#Cargar datos de diccionarios\n",
        "train_data = sio.loadmat(r_train)\n",
        "test_data = sio.loadmat(r_test)\n",
        "extra_data = sio.loadmat(r_extra)\n",
        "\n",
        "#Datos ENTRENAMIENTO\n",
        "x_train = train_data['X']\n",
        "y_train = train_data['y']\n",
        "#Datos TEST\n",
        "x_test = test_data['X']\n",
        "y_test = test_data['y']\n",
        "#Datos EXTRA\n",
        "#x_extra = extra_data['X']\n",
        "y_extra = extra_data['y']\n",
        "del extra_data\n",
        "y_extra = y_extra[:200000,:]"
      ],
      "execution_count": 0,
      "outputs": []
    },
    {
      "metadata": {
        "id": "Pk7-pOQIps7d",
        "colab_type": "code",
        "colab": {
          "base_uri": "https://localhost:8080/",
          "height": 34
        },
        "outputId": "36d08c03-ad41-4660-c2a7-8ef28a4ee1b9"
      },
      "cell_type": "code",
      "source": [
        "y_extra.shape"
      ],
      "execution_count": 5,
      "outputs": [
        {
          "output_type": "execute_result",
          "data": {
            "text/plain": [
              "(200000, 1)"
            ]
          },
          "metadata": {
            "tags": []
          },
          "execution_count": 5
        }
      ]
    },
    {
      "metadata": {
        "scrolled": true,
        "id": "buCgZyOxyULD",
        "colab_type": "code",
        "colab": {}
      },
      "cell_type": "code",
      "source": [
        "#Se realiza un transpose al principio del tratamiento debido a la forma en la que\n",
        "#una CNN recibe los datos ya que de manera predeterminada espera los datos con\n",
        "#formato datos,ancho,alto,canales.\n",
        "x_train = x_train.transpose((3,0,1,2))\n",
        "x_test = x_test.transpose((3,0,1,2))\n",
        "#x_extra = x_extra.transpose((3,0,1,2))\n",
        "\n",
        "print(\"x_train tiene y y_train tienen \", x_train.shape[0], \" datos\")\n",
        "\n",
        "#Contamos la aparición de cada elemento en un numpy\n",
        "unique, counts = np.unique(y_train, return_counts=True)\n",
        "print(\"Los datos en y_train estan distribuidos:\")\n",
        "print(dict(zip(unique, counts)))\n",
        "#del unique,counts,train_data"
      ],
      "execution_count": 0,
      "outputs": []
    },
    {
      "metadata": {
        "id": "whDhkGiUl9f9",
        "colab_type": "code",
        "colab": {}
      },
      "cell_type": "code",
      "source": [
        "#Seaborn histograma revisar tiempo de ejecucion\n",
        "#sns.distplot(y_test, bins=20, kde=False, rug=True);"
      ],
      "execution_count": 0,
      "outputs": []
    },
    {
      "metadata": {
        "id": "B9tHmywNs7SO",
        "colab_type": "code",
        "colab": {}
      },
      "cell_type": "code",
      "source": [
        "#Grafica que muestra la distribucion de numeros\n",
        "graf1, (training, test) = plt.subplots(1, 2, sharex=True)\n",
        "\n",
        "training.hist(y_train, color= '#9b9b9b', bins=20)\n",
        "training.set_title(\"Datos entrenamiento\")\n",
        "\n",
        "test.hist(y_test, color='#009C8C', bins=20)\n",
        "test.set_title(\"Datos de prueba\")\n",
        "\n",
        "graf1.tight_layout()"
      ],
      "execution_count": 0,
      "outputs": []
    },
    {
      "metadata": {
        "id": "6d_dMpUayULJ",
        "colab_type": "code",
        "colab": {}
      },
      "cell_type": "code",
      "source": [
        "#Usamos np.unique para ver los valores de y_train, notemos que hay un\n",
        "#error en la data ya que el 10 es en realidad un 0.\n",
        "print(\"Numeros en y_train: \",np.unique(y_train), \"<- Error con 10\")\n",
        "#def unicos(lista):\n",
        "    #conjunto = set(lista)\n",
        "    #lista = list(conjunto)\n",
        "    #print(lista)  #NO FUNCIONA PQ ES unhashable ya es numpyarray\n",
        " \n",
        "def arreglar_lista(lista_y):\n",
        "    lista_y[lista_y == 10] = 0 #Modificamos el 10 por 0\n",
        "\n",
        "arreglar_lista(y_train)\n",
        "arreglar_lista(y_test)\n",
        "arreglar_lista(y_extra)"
      ],
      "execution_count": 0,
      "outputs": []
    },
    {
      "metadata": {
        "id": "eX69jV8X90dm",
        "colab_type": "code",
        "colab": {}
      },
      "cell_type": "code",
      "source": [
        "#print(\"Numeros actualizados\", np.unique(y_train), \"<- Correcto\")\n",
        "graf2, (training, test) = plt.subplots(1, 2, sharex=True)\n",
        "\n",
        "training.hist(y_train, color= '#9b9b9b', bins=20)\n",
        "training.set_title(\"Datos entrenamiento\")\n",
        "\n",
        "test.hist(y_test, color='#009C8C', bins=20)\n",
        "test.set_title(\"Datos de prueba\")\n",
        "\n",
        "graf2.tight_layout()"
      ],
      "execution_count": 0,
      "outputs": []
    },
    {
      "metadata": {
        "id": "D2OpTf-PyULL",
        "colab_type": "code",
        "colab": {}
      },
      "cell_type": "code",
      "source": [
        "# Y = 0.2990R + 0.5870G + 0.1140B --> Formula\n",
        "def rgb_gray(datos):\n",
        "    return np.dot(datos, [0.2990, 0.5870, 0.1140])"
      ],
      "execution_count": 0,
      "outputs": []
    },
    {
      "metadata": {
        "id": "k2xS-C_xEXff",
        "colab_type": "code",
        "colab": {}
      },
      "cell_type": "code",
      "source": [
        "#Funcion para estructura de print\n",
        "#Ejemplo de como print\n",
        "#pimg(x_train), si image_ind es 1 buscara el de indice 1 en x_train y lo print\n",
        "#Nuestra variable independiente esta estructurada[tamaño,ancho,altura,canales]\n",
        "def pimg (data):\n",
        "    plt.imshow(data[image_ind,:,:,:]) ##image_ind es un indice para buscar definido arriba\n",
        "    plt.show()\n",
        "    print(\"Numero de imagen\",y_train[image_ind])"
      ],
      "execution_count": 0,
      "outputs": []
    },
    {
      "metadata": {
        "id": "d5qRN1yhJlqo",
        "colab_type": "code",
        "colab": {}
      },
      "cell_type": "code",
      "source": [
        "#Cambiar de rgb a gray , con np.dot se eliminan los canales.\n",
        "x_train_gris = rgb_gray(x_train)\n",
        "print(x_train_gris.shape)\n",
        "\n",
        "x_test_gris = rgb_gray(x_test)\n",
        "x_test_gris.shape"
      ],
      "execution_count": 0,
      "outputs": []
    },
    {
      "metadata": {
        "id": "gzhEpdUfyULN",
        "colab_type": "code",
        "colab": {}
      },
      "cell_type": "code",
      "source": [
        "#Ejemplo de como imprimir es gris\n",
        "#plt.imshow(x_train_gris[image_ind,:,:], cmap='gray')\n",
        "#plt.show()"
      ],
      "execution_count": 0,
      "outputs": []
    },
    {
      "metadata": {
        "id": "1yOIKBaayULQ",
        "colab_type": "code",
        "colab": {}
      },
      "cell_type": "code",
      "source": [
        "#Funcion para normalizacion de datos\n",
        "def normalizar(datos):\n",
        "    media = np.mean(datos, axis=0)\n",
        "    #Desviacion estandar\n",
        "    desv = np.std(datos, axis=0)\n",
        "    # Datos normalizados\n",
        "    return (datos - media) / desv\n",
        "\n",
        "x_train_gris_n = normalizar(x_train_gris)\n",
        "x_test_gris_n = normalizar(x_test_gris)\n",
        "#print(x_train_gris_n[1,1,1]) ##Borrar, es una prueba de valor\n",
        "#print(x_train_gris_n[-1,-1,-1]) ##Borrar, es una prueba de valor"
      ],
      "execution_count": 0,
      "outputs": []
    },
    {
      "metadata": {
        "id": "c9y4v0T9yULS",
        "colab_type": "code",
        "colab": {}
      },
      "cell_type": "code",
      "source": [
        "enc = hot_enc().fit(y_train.reshape(-1, 1))\n",
        "\n",
        "#Explicación de esto... https://hackernoon.com/what-is-one-hot-encoding-why-and-when-do-you-have-to-use-it-e3c6186d008f\n",
        "#Explicar en presentacion, se pasan de 0:9 a algo similar a matrix de confusion\n",
        "y_train = enc.transform(y_train.reshape(-1, 1)).toarray()\n",
        "y_test = enc.transform(y_test.reshape(-1, 1)).toarray()\n",
        "y_extra = enc.transform(y_extra.reshape(-1, 1)).toarray()\n",
        "\n",
        "print(\"y train\", y_train.shape)\n",
        "print(\"y test\", y_test.shape)\n",
        "print(\"y extra\", y_extra.shape)"
      ],
      "execution_count": 0,
      "outputs": []
    },
    {
      "metadata": {
        "id": "dRN3i1WhyULW",
        "colab_type": "code",
        "colab": {}
      },
      "cell_type": "code",
      "source": [
        "#Crea un archivo para guardar los datos\n",
        "h5f = h5py.File('datos.h5', 'w')\n",
        "\n",
        "#Entrenamiento\n",
        "h5f.create_dataset('x_train', data=x_train_gris_n)\n",
        "h5f.create_dataset('y_train', data=y_train)\n",
        "#Test\n",
        "h5f.create_dataset('x_test', data=x_test_gris_n)\n",
        "h5f.create_dataset('y_test', data=y_test)\n",
        "#Extra\n",
        "h5f.create_dataset('y_extra', data=y_extra)\n",
        "#Cerrar y guardar\n",
        "h5f.close()"
      ],
      "execution_count": 0,
      "outputs": []
    }
  ]
}