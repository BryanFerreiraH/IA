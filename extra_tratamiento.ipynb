{
  "nbformat": 4,
  "nbformat_minor": 0,
  "metadata": {
    "colab": {
      "name": "extra_tratamiento.ipynb",
      "version": "0.3.2",
      "provenance": [],
      "include_colab_link": true
    },
    "kernelspec": {
      "name": "python3",
      "display_name": "Python 3"
    }
  },
  "cells": [
    {
      "cell_type": "markdown",
      "metadata": {
        "id": "view-in-github",
        "colab_type": "text"
      },
      "source": [
        "<a href=\"https://colab.research.google.com/github/BryanFerreiraH/IA/blob/master/extra_tratamiento.ipynb\" target=\"_parent\"><img src=\"https://colab.research.google.com/assets/colab-badge.svg\" alt=\"Open In Colab\"/></a>"
      ]
    },
    {
      "metadata": {
        "id": "RIIg5VfER80Y",
        "colab_type": "code",
        "colab": {}
      },
      "cell_type": "code",
      "source": [
        "# Importar daos de Google Drive con Google Colab\n",
        "from google.colab import drive\n",
        "\n",
        "# Activa la autentificacion para acceder a datos\n",
        "drive.mount('/content/drive')"
      ],
      "execution_count": 0,
      "outputs": []
    },
    {
      "metadata": {
        "id": "relb9QzMSJ5g",
        "colab_type": "code",
        "colab": {}
      },
      "cell_type": "code",
      "source": [
        "import numpy as np #Manejo de matrices \n",
        "import scipy.io as sio #Leer datos de archivo original .mat\n",
        "import h5py #Guardar en h5 para luego procesarlos"
      ],
      "execution_count": 0,
      "outputs": []
    },
    {
      "metadata": {
        "id": "WHPqxz1jSL24",
        "colab_type": "code",
        "colab": {}
      },
      "cell_type": "code",
      "source": [
        "r_extra = '/content/drive/Team Drives/IA Proyecto Final/dataset/extra_32x32.mat'\n",
        "\n",
        "#Datos EXTRA\n",
        "extra_data = sio.loadmat(r_extra)\n",
        "x_extra = extra_data['X']\n",
        "#y_extra = extra_data['y']\n",
        "\n",
        "x_extra = x_extra.transpose((3,0,1,2))"
      ],
      "execution_count": 0,
      "outputs": []
    },
    {
      "metadata": {
        "id": "KqnJg8sJX4pJ",
        "colab_type": "code",
        "colab": {}
      },
      "cell_type": "code",
      "source": [
        "def rgb_gray(datos):\n",
        "    return np.dot(datos, [0.2990, 0.5870, 0.1140])\n",
        "\n",
        "def normalizar(datos):\n",
        "    media = np.mean(datos, axis=0)\n",
        "    #Desviacion estandar\n",
        "    desv = np.std(datos, axis=0)\n",
        "    # Datos normalizados\n",
        "    return (datos - media) / desv"
      ],
      "execution_count": 0,
      "outputs": []
    },
    {
      "metadata": {
        "id": "BDDUtT8u16zC",
        "colab_type": "code",
        "colab": {
          "base_uri": "https://localhost:8080/",
          "height": 34
        },
        "outputId": "bdd96980-fce6-4721-97da-7cbd795430d7"
      },
      "cell_type": "code",
      "source": [
        "x_extra.shape"
      ],
      "execution_count": 4,
      "outputs": [
        {
          "output_type": "execute_result",
          "data": {
            "text/plain": [
              "(531131, 32, 32, 3)"
            ]
          },
          "metadata": {
            "tags": []
          },
          "execution_count": 4
        }
      ]
    },
    {
      "metadata": {
        "id": "jH61rTQgVZWY",
        "colab_type": "code",
        "colab": {
          "base_uri": "https://localhost:8080/",
          "height": 34
        },
        "outputId": "1d77689e-d2be-4fb8-d125-6bd25e3f98e8"
      },
      "cell_type": "code",
      "source": [
        "x_extra= x_extra[:200000,:,:,:]\n",
        "x_extra.shape"
      ],
      "execution_count": 5,
      "outputs": [
        {
          "output_type": "execute_result",
          "data": {
            "text/plain": [
              "(200000, 32, 32, 3)"
            ]
          },
          "metadata": {
            "tags": []
          },
          "execution_count": 5
        }
      ]
    },
    {
      "metadata": {
        "id": "dk9m4uVNXOb6",
        "colab_type": "code",
        "colab": {}
      },
      "cell_type": "code",
      "source": [
        "x_extra = rgb_gray(x_extra)"
      ],
      "execution_count": 0,
      "outputs": []
    },
    {
      "metadata": {
        "id": "syUXrpmbX4oM",
        "colab_type": "code",
        "colab": {}
      },
      "cell_type": "code",
      "source": [
        "x_extra = normalizar(x_extra)"
      ],
      "execution_count": 0,
      "outputs": []
    },
    {
      "metadata": {
        "id": "MYFjDGDzYe4r",
        "colab_type": "code",
        "colab": {}
      },
      "cell_type": "code",
      "source": [
        "#Crea un archivo para guardar los datos\n",
        "h5f = h5py.File('extra', 'w')\n",
        "#Extra\n",
        "h5f.create_dataset('x_extra', data=x_extra)\n",
        "#Cerrar y guardar\n",
        "h5f.close()"
      ],
      "execution_count": 0,
      "outputs": []
    }
  ]
}