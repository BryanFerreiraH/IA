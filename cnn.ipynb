{
  "nbformat": 4,
  "nbformat_minor": 0,
  "metadata": {
    "colab": {
      "name": "cnn.ipynb",
      "version": "0.3.2",
      "provenance": [],
      "collapsed_sections": [],
      "include_colab_link": true
    },
    "kernelspec": {
      "name": "python3",
      "display_name": "Python 3"
    }
  },
  "cells": [
    {
      "cell_type": "markdown",
      "metadata": {
        "id": "view-in-github",
        "colab_type": "text"
      },
      "source": [
        "<a href=\"https://colab.research.google.com/github/BryanFerreiraH/IA/blob/master/cnn.ipynb\" target=\"_parent\"><img src=\"https://colab.research.google.com/assets/colab-badge.svg\" alt=\"Open In Colab\"/></a>"
      ]
    },
    {
      "metadata": {
        "id": "mHjkZmFIxE8p",
        "colab_type": "code",
        "colab": {}
      },
      "cell_type": "code",
      "source": [
        "import h5py\n",
        "import numpy as np\n",
        "#Abrir datos\n",
        "h5f = h5py.File('datos.h5', 'r')\n",
        "\n",
        "#Cargamos los datos de entrenamiento \n",
        "x_train = h5f['x_train'][:]\n",
        "#y_train = h5f['y_train'][:]\n",
        "\n",
        "#Cargamos los datos de test\n",
        "#x_test = h5f['x_test'][:]\n",
        "#y_test = h5f['y_test'][:]\n",
        "\n",
        "x_extra = h5f['x_extra'][:]\n",
        "#y_extra = h5f['y_extra'][:]\n",
        "h5f.close()"
      ],
      "execution_count": 0,
      "outputs": []
    },
    {
      "metadata": {
        "id": "zMhzqAEjwYv_",
        "colab_type": "code",
        "colab": {}
      },
      "cell_type": "code",
      "source": [
        "print(x_train.shape)\n",
        "#print(y_test.shape)\n",
        "x_train = np.concatenate((x_train,x_extra), axis=0)\n",
        "x_train.shape"
      ],
      "execution_count": 0,
      "outputs": []
    },
    {
      "metadata": {
        "id": "NQwR030JmonT",
        "colab_type": "code",
        "colab": {}
      },
      "cell_type": "code",
      "source": [
        "del x_extra\n",
        "h5f = h5py.File('datos.h5', 'r')\n",
        "y_train = h5f['y_train'][:]\n",
        "x_test = h5f['x_test'][:]\n",
        "y_test = h5f['y_test'][:]\n",
        "y_extra = h5f['y_extra'][:]\n",
        "h5f.close()"
      ],
      "execution_count": 0,
      "outputs": []
    },
    {
      "metadata": {
        "id": "XnVMG_Rp2cqD",
        "colab_type": "code",
        "colab": {}
      },
      "cell_type": "code",
      "source": [
        "y_train = np.concatenate((y_train,y_extra), axis=0)\n",
        "y_train.shape\n",
        "del y_extra"
      ],
      "execution_count": 0,
      "outputs": []
    },
    {
      "metadata": {
        "id": "CgBZqLlLT20F",
        "colab_type": "code",
        "colab": {}
      },
      "cell_type": "code",
      "source": [
        "#Agregar dimension de canal\n",
        "x_train=np.expand_dims(x_train, axis=3).astype('float32')\n",
        "x_test=np.expand_dims(x_test, axis=3).astype('float32')"
      ],
      "execution_count": 0,
      "outputs": []
    },
    {
      "metadata": {
        "id": "2AhG5Kj5Fmu1",
        "colab_type": "code",
        "colab": {
          "base_uri": "https://localhost:8080/",
          "height": 105
        },
        "outputId": "52f89e69-ffed-4d49-f09f-d96c28adc58c"
      },
      "cell_type": "code",
      "source": [
        "from keras import models\n",
        "from keras import layers\n",
        "network = models.Sequential()\n",
        "\n",
        "network.add(layers.Conv2D(10, (5, 5), activation='relu', input_shape=(32,32,1)))\n",
        "network.add(layers.MaxPooling2D((2, 2)))\n",
        "network.add(layers.Conv2D(20, (5, 5), activation='relu'))\n",
        "network.add(layers.MaxPooling2D((2, 2)))\n",
        "\n",
        "# Clasificador\n",
        "network.add(layers.Flatten())\n",
        "network.add(layers.Dense(100, activation='relu'))\n",
        "\n",
        "# Neurona de salida\n",
        "network.add(layers.Dense(10, activation='softmax'))\n",
        "\n",
        "#Definimor el optmizador,la metricas para test/train y la funcion de perdida\n",
        "network.compile(optimizer='adam',loss='categorical_crossentropy',metrics=['categorical_accuracy'])\n",
        "\n",
        "history = network.fit(x_train, y_train, epochs=1, batch_size=128, validation_data=(x_test, y_test))"
      ],
      "execution_count": 7,
      "outputs": [
        {
          "output_type": "stream",
          "text": [
            "Using TensorFlow backend.\n"
          ],
          "name": "stderr"
        },
        {
          "output_type": "stream",
          "text": [
            "Train on 373257 samples, validate on 26032 samples\n",
            "Epoch 1/1\n",
            "373257/373257 [==============================] - 353s 947us/step - loss: 0.3650 - categorical_accuracy: 0.8964 - val_loss: 0.4098 - val_categorical_accuracy: 0.8877\n"
          ],
          "name": "stdout"
        }
      ]
    },
    {
      "metadata": {
        "id": "YXwkio5QbvBE",
        "colab_type": "code",
        "outputId": "cf6b5ee3-d113-4466-d2c0-8fcebfab64b1",
        "colab": {
          "base_uri": "https://localhost:8080/",
          "height": 51
        }
      },
      "cell_type": "code",
      "source": [
        "# Comprobacacion de error\n",
        "test_loss, test_acc = network.evaluate(x_test, y_test)\n",
        "print('test_acc:', test_acc)\n"
      ],
      "execution_count": 8,
      "outputs": [
        {
          "output_type": "stream",
          "text": [
            "26032/26032 [==============================] - 13s 499us/step\n",
            "test_acc: 0.8877151198524893\n"
          ],
          "name": "stdout"
        }
      ]
    },
    {
      "metadata": {
        "id": "UTr0t2pOQK3Y",
        "colab_type": "code",
        "colab": {}
      },
      "cell_type": "code",
      "source": [
        "from sklearn.metrics import confusion_matrix\n",
        "Y_prediction = network.predict(x_test)\n",
        "# Convert predictions classes to one hot vectors \n",
        "Y_pred_classes = np.argmax(Y_prediction,axis = 1) \n",
        "# Convert validation observations to one hot vectors\n",
        "Y_true = np.argmax(y_test,axis = 1) \n",
        "# compute the confusion matrix\n",
        "confusion_mtx = confusion_matrix(Y_true, Y_pred_classes)"
      ],
      "execution_count": 0,
      "outputs": []
    },
    {
      "metadata": {
        "id": "io_bLbR8UXXg",
        "colab_type": "code",
        "outputId": "0b32a992-6e7e-41fa-f62b-a87001119ae4",
        "colab": {
          "base_uri": "https://localhost:8080/",
          "height": 347
        }
      },
      "cell_type": "code",
      "source": [
        "import seaborn as sns\n",
        "plt.figure()\n",
        "sns.heatmap(confusion_mtx, annot=True, fmt=\"d\");"
      ],
      "execution_count": 0,
      "outputs": [
        {
          "output_type": "display_data",
          "data": {
            "image/png": "[encoded data removed]",
            "text/plain": [
              "<matplotlib.figure.Figure at 0x7f273a740630>"
            ]
          },
          "metadata": {
            "tags": []
          }
        }
      ]
    },
    {
      "metadata": {
        "id": "QzdZFWfnIlck",
        "colab_type": "code",
        "colab": {}
      },
      "cell_type": "code",
      "source": [
        "import matplotlib.pyplot as plt #Mostrar datos\n",
        "#Error mostrando datos\n",
        "#Visualizacion de datos\n",
        "fig = plt.figure()\n",
        "plt.subplot(2,1,1)\n",
        "plt.plot(history.history['categorical_accuracy'])\n",
        "plt.plot(history.history['val_categorical_accuracy'])\n",
        "plt.ylabel('Precision')\n",
        "plt.xlabel('Numero de epoch')\n",
        "plt.legend(['Train', 'Test'], loc= 0)\n",
        "\n",
        "plt.subplot(2,1,2)\n",
        "plt.plot(history.history['loss'])\n",
        "plt.plot(history.history['val_loss'])\n",
        "plt.ylabel('Pérdida')\n",
        "plt.xlabel('Numero de epoch')\n",
        "plt.legend(['Entrenamiento', 'Test'], loc='upper right')\n",
        "\n",
        "plt.tight_layout()\n",
        "plt.show()"
      ],
      "execution_count": 0,
      "outputs": []
    },
    {
      "metadata": {
        "id": "hfXnmF_aogDw",
        "colab_type": "code",
        "colab": {
          "base_uri": "https://localhost:8080/",
          "height": 34
        },
        "outputId": "db55c6e6-b778-4cba-c83e-b9e7ad6cb90b"
      },
      "cell_type": "code",
      "source": [
        "%reset"
      ],
      "execution_count": 9,
      "outputs": [
        {
          "output_type": "stream",
          "text": [
            "Once deleted, variables cannot be recovered. Proceed (y/[n])? y\n"
          ],
          "name": "stdout"
        }
      ]
    }
  ]
}